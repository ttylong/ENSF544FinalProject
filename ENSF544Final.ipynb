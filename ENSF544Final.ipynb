{
 "cells": [
  {
   "cell_type": "markdown",
   "metadata": {},
   "source": [
    "# ENSF 544 Final Project: Stock Price Prediction Using ML"
   ]
  },
  {
   "cell_type": "markdown",
   "metadata": {},
   "source": [
    "### Project Group:\n",
    "\n",
    "Tyler Chan (30068334)\n",
    "\n",
    "Stalin D'Cunha (30062947)"
   ]
  },
  {
   "cell_type": "markdown",
   "metadata": {},
   "source": [
    "For this final project, we will be using various models to predict Apple (AAPL) stock data.\n",
    "\n",
    "Unfortunately, Scikit-learn does not have LSTM, so we will go with the following strategies:\n",
    "1. Linear Regression\n",
    "2. Multi Layer Perceptron\n",
    "3. SVM, specifically SVR"
   ]
  },
  {
   "cell_type": "markdown",
   "metadata": {},
   "source": [
    "Our dataset came from [Kaggle](https://www.kaggle.com/datasets/camnugent/sandp500). We specifically downloaded the AAPL dataset."
   ]
  },
  {
   "cell_type": "code",
   "execution_count": 287,
   "metadata": {},
   "outputs": [],
   "source": [
    "import pandas as pd\n",
    "import matplotlib.pyplot as plt\n",
    "import numpy as np\n",
    "import math\n",
    "\n",
    "from sklearn.linear_model import LinearRegression\n",
    "from sklearn.neural_network import MLPRegressor\n",
    "from sklearn.svm import SVR\n",
    "\n",
    "from sklearn.metrics import make_scorer, r2_score, mean_absolute_error, mean_squared_error\n",
    "from sklearn.model_selection import train_test_split, GridSearchCV\n",
    "from sklearn.pipeline import Pipeline\n",
    "from sklearn.preprocessing import RobustScaler, StandardScaler\n",
    "\n",
    "# help us view progress of parallel processes\n",
    "from tqdm.notebook import tqdm\n",
    "from sklearn.model_selection import ParameterGrid\n",
    "from joblib import Parallel, delayed, parallel_backend\n"
   ]
  },
  {
   "cell_type": "code",
   "execution_count": 255,
   "metadata": {},
   "outputs": [],
   "source": [
    "RANDOM_STATE = 0"
   ]
  },
  {
   "cell_type": "markdown",
   "metadata": {},
   "source": [
    "First, read in the data and ensure no null values were read in."
   ]
  },
  {
   "cell_type": "code",
   "execution_count": 256,
   "metadata": {},
   "outputs": [
    {
     "data": {
      "text/html": [
       "<div>\n",
       "<style scoped>\n",
       "    .dataframe tbody tr th:only-of-type {\n",
       "        vertical-align: middle;\n",
       "    }\n",
       "\n",
       "    .dataframe tbody tr th {\n",
       "        vertical-align: top;\n",
       "    }\n",
       "\n",
       "    .dataframe thead th {\n",
       "        text-align: right;\n",
       "    }\n",
       "</style>\n",
       "<table border=\"1\" class=\"dataframe\">\n",
       "  <thead>\n",
       "    <tr style=\"text-align: right;\">\n",
       "      <th></th>\n",
       "      <th>date</th>\n",
       "      <th>open</th>\n",
       "      <th>high</th>\n",
       "      <th>low</th>\n",
       "      <th>close</th>\n",
       "      <th>volume</th>\n",
       "      <th>Name</th>\n",
       "    </tr>\n",
       "  </thead>\n",
       "  <tbody>\n",
       "    <tr>\n",
       "      <th>0</th>\n",
       "      <td>2013-02-08</td>\n",
       "      <td>67.7142</td>\n",
       "      <td>68.4014</td>\n",
       "      <td>66.8928</td>\n",
       "      <td>67.8542</td>\n",
       "      <td>158168416</td>\n",
       "      <td>AAPL</td>\n",
       "    </tr>\n",
       "    <tr>\n",
       "      <th>1</th>\n",
       "      <td>2013-02-11</td>\n",
       "      <td>68.0714</td>\n",
       "      <td>69.2771</td>\n",
       "      <td>67.6071</td>\n",
       "      <td>68.5614</td>\n",
       "      <td>129029425</td>\n",
       "      <td>AAPL</td>\n",
       "    </tr>\n",
       "    <tr>\n",
       "      <th>2</th>\n",
       "      <td>2013-02-12</td>\n",
       "      <td>68.5014</td>\n",
       "      <td>68.9114</td>\n",
       "      <td>66.8205</td>\n",
       "      <td>66.8428</td>\n",
       "      <td>151829363</td>\n",
       "      <td>AAPL</td>\n",
       "    </tr>\n",
       "    <tr>\n",
       "      <th>3</th>\n",
       "      <td>2013-02-13</td>\n",
       "      <td>66.7442</td>\n",
       "      <td>67.6628</td>\n",
       "      <td>66.1742</td>\n",
       "      <td>66.7156</td>\n",
       "      <td>118721995</td>\n",
       "      <td>AAPL</td>\n",
       "    </tr>\n",
       "    <tr>\n",
       "      <th>4</th>\n",
       "      <td>2013-02-14</td>\n",
       "      <td>66.3599</td>\n",
       "      <td>67.3771</td>\n",
       "      <td>66.2885</td>\n",
       "      <td>66.6556</td>\n",
       "      <td>88809154</td>\n",
       "      <td>AAPL</td>\n",
       "    </tr>\n",
       "  </tbody>\n",
       "</table>\n",
       "</div>"
      ],
      "text/plain": [
       "         date     open     high      low    close     volume  Name\n",
       "0  2013-02-08  67.7142  68.4014  66.8928  67.8542  158168416  AAPL\n",
       "1  2013-02-11  68.0714  69.2771  67.6071  68.5614  129029425  AAPL\n",
       "2  2013-02-12  68.5014  68.9114  66.8205  66.8428  151829363  AAPL\n",
       "3  2013-02-13  66.7442  67.6628  66.1742  66.7156  118721995  AAPL\n",
       "4  2013-02-14  66.3599  67.3771  66.2885  66.6556   88809154  AAPL"
      ]
     },
     "execution_count": 256,
     "metadata": {},
     "output_type": "execute_result"
    }
   ],
   "source": [
    "df = pd.read_csv('AAPL_data.csv')\n",
    "df.head()"
   ]
  },
  {
   "cell_type": "code",
   "execution_count": 257,
   "metadata": {},
   "outputs": [
    {
     "data": {
      "text/plain": [
       "date      0\n",
       "open      0\n",
       "high      0\n",
       "low       0\n",
       "close     0\n",
       "volume    0\n",
       "Name      0\n",
       "dtype: int64"
      ]
     },
     "execution_count": 257,
     "metadata": {},
     "output_type": "execute_result"
    }
   ],
   "source": [
    "df.isna().sum()"
   ]
  },
  {
   "cell_type": "code",
   "execution_count": 258,
   "metadata": {},
   "outputs": [
    {
     "data": {
      "text/plain": [
       "date       object\n",
       "open      float64\n",
       "high      float64\n",
       "low       float64\n",
       "close     float64\n",
       "volume      int64\n",
       "Name       object\n",
       "dtype: object"
      ]
     },
     "execution_count": 258,
     "metadata": {},
     "output_type": "execute_result"
    }
   ],
   "source": [
    "df.dtypes\n"
   ]
  },
  {
   "cell_type": "markdown",
   "metadata": {},
   "source": [
    "The name column is irrelevant, so we will drop it (we are looking only at one stock)"
   ]
  },
  {
   "cell_type": "code",
   "execution_count": 259,
   "metadata": {},
   "outputs": [],
   "source": [
    "df.drop(columns=['Name'], inplace=True)"
   ]
  },
  {
   "cell_type": "markdown",
   "metadata": {},
   "source": [
    "We need to deal with the date column. Since we are dealing with time series data, we may get temporal patterns out of them. We will use a technique called \"cyclic feature encoding\". This is useful since time data is cyclical: months roll over, time rolls over, etc. All code references are listed in the reference section."
   ]
  },
  {
   "cell_type": "code",
   "execution_count": 260,
   "metadata": {},
   "outputs": [
    {
     "data": {
      "text/plain": [
       "open      float64\n",
       "high      float64\n",
       "low       float64\n",
       "close     float64\n",
       "volume      int64\n",
       "day         int32\n",
       "month       int32\n",
       "year        int32\n",
       "dtype: object"
      ]
     },
     "execution_count": 260,
     "metadata": {},
     "output_type": "execute_result"
    }
   ],
   "source": [
    "df['date'] = pd.to_datetime(df['date'])\n",
    "df['day'] = df['date'].dt.dayofweek\n",
    "df['month'] = df['date'].dt.month\n",
    "df['year'] = df['date'].dt.year\n",
    "\n",
    "df.drop(columns=['date'], inplace=True)\n",
    "\n",
    "df.dtypes"
   ]
  },
  {
   "cell_type": "code",
   "execution_count": 261,
   "metadata": {},
   "outputs": [],
   "source": [
    "# helper function to create cyclical data about our dates. max=max number of 'things' in the date type. ie, a week has at max 7 days. a year has at max 12 months\n",
    "def encodeCyclicalData(df, dateType, max):\n",
    "    column_sin = dateType + '_sin'\n",
    "    column_cos = dateType + '_cos'\n",
    "\n",
    "    df[column_sin] = np.sin(2 * np.pi * df[dateType] / max)\n",
    "    df[column_cos] = np.cos(2 * np.pi * df[dateType] / max)\n",
    "\n",
    "    df.drop(columns=[dateType], inplace=True)\n",
    "    \n",
    "    return df\n"
   ]
  },
  {
   "cell_type": "code",
   "execution_count": 262,
   "metadata": {},
   "outputs": [],
   "source": [
    "df = encodeCyclicalData(df=df, dateType='day', max=7)\n",
    "df = encodeCyclicalData(df=df, dateType='month', max=12)\n",
    "# years are not cyclical"
   ]
  },
  {
   "cell_type": "code",
   "execution_count": 263,
   "metadata": {},
   "outputs": [
    {
     "data": {
      "text/html": [
       "<div>\n",
       "<style scoped>\n",
       "    .dataframe tbody tr th:only-of-type {\n",
       "        vertical-align: middle;\n",
       "    }\n",
       "\n",
       "    .dataframe tbody tr th {\n",
       "        vertical-align: top;\n",
       "    }\n",
       "\n",
       "    .dataframe thead th {\n",
       "        text-align: right;\n",
       "    }\n",
       "</style>\n",
       "<table border=\"1\" class=\"dataframe\">\n",
       "  <thead>\n",
       "    <tr style=\"text-align: right;\">\n",
       "      <th></th>\n",
       "      <th>open</th>\n",
       "      <th>high</th>\n",
       "      <th>low</th>\n",
       "      <th>close</th>\n",
       "      <th>volume</th>\n",
       "      <th>year</th>\n",
       "      <th>day_sin</th>\n",
       "      <th>day_cos</th>\n",
       "      <th>month_sin</th>\n",
       "      <th>month_cos</th>\n",
       "    </tr>\n",
       "  </thead>\n",
       "  <tbody>\n",
       "    <tr>\n",
       "      <th>0</th>\n",
       "      <td>67.7142</td>\n",
       "      <td>68.4014</td>\n",
       "      <td>66.8928</td>\n",
       "      <td>67.8542</td>\n",
       "      <td>158168416</td>\n",
       "      <td>2013</td>\n",
       "      <td>-0.433884</td>\n",
       "      <td>-0.900969</td>\n",
       "      <td>0.866025</td>\n",
       "      <td>0.5</td>\n",
       "    </tr>\n",
       "    <tr>\n",
       "      <th>1</th>\n",
       "      <td>68.0714</td>\n",
       "      <td>69.2771</td>\n",
       "      <td>67.6071</td>\n",
       "      <td>68.5614</td>\n",
       "      <td>129029425</td>\n",
       "      <td>2013</td>\n",
       "      <td>0.000000</td>\n",
       "      <td>1.000000</td>\n",
       "      <td>0.866025</td>\n",
       "      <td>0.5</td>\n",
       "    </tr>\n",
       "    <tr>\n",
       "      <th>2</th>\n",
       "      <td>68.5014</td>\n",
       "      <td>68.9114</td>\n",
       "      <td>66.8205</td>\n",
       "      <td>66.8428</td>\n",
       "      <td>151829363</td>\n",
       "      <td>2013</td>\n",
       "      <td>0.781831</td>\n",
       "      <td>0.623490</td>\n",
       "      <td>0.866025</td>\n",
       "      <td>0.5</td>\n",
       "    </tr>\n",
       "    <tr>\n",
       "      <th>3</th>\n",
       "      <td>66.7442</td>\n",
       "      <td>67.6628</td>\n",
       "      <td>66.1742</td>\n",
       "      <td>66.7156</td>\n",
       "      <td>118721995</td>\n",
       "      <td>2013</td>\n",
       "      <td>0.974928</td>\n",
       "      <td>-0.222521</td>\n",
       "      <td>0.866025</td>\n",
       "      <td>0.5</td>\n",
       "    </tr>\n",
       "    <tr>\n",
       "      <th>4</th>\n",
       "      <td>66.3599</td>\n",
       "      <td>67.3771</td>\n",
       "      <td>66.2885</td>\n",
       "      <td>66.6556</td>\n",
       "      <td>88809154</td>\n",
       "      <td>2013</td>\n",
       "      <td>0.433884</td>\n",
       "      <td>-0.900969</td>\n",
       "      <td>0.866025</td>\n",
       "      <td>0.5</td>\n",
       "    </tr>\n",
       "  </tbody>\n",
       "</table>\n",
       "</div>"
      ],
      "text/plain": [
       "      open     high      low    close     volume  year   day_sin   day_cos  \\\n",
       "0  67.7142  68.4014  66.8928  67.8542  158168416  2013 -0.433884 -0.900969   \n",
       "1  68.0714  69.2771  67.6071  68.5614  129029425  2013  0.000000  1.000000   \n",
       "2  68.5014  68.9114  66.8205  66.8428  151829363  2013  0.781831  0.623490   \n",
       "3  66.7442  67.6628  66.1742  66.7156  118721995  2013  0.974928 -0.222521   \n",
       "4  66.3599  67.3771  66.2885  66.6556   88809154  2013  0.433884 -0.900969   \n",
       "\n",
       "   month_sin  month_cos  \n",
       "0   0.866025        0.5  \n",
       "1   0.866025        0.5  \n",
       "2   0.866025        0.5  \n",
       "3   0.866025        0.5  \n",
       "4   0.866025        0.5  "
      ]
     },
     "execution_count": 263,
     "metadata": {},
     "output_type": "execute_result"
    }
   ],
   "source": [
    "df.head()"
   ]
  },
  {
   "cell_type": "markdown",
   "metadata": {},
   "source": [
    "Now, we want to have lagging data for this. Basically, instead of a row containing a day's data, we will have the target, and the previous day's data (or several in this case).\n",
    "Since we are greedy, we will predict the high of the target day. Again, all sourced code is cited."
   ]
  },
  {
   "cell_type": "code",
   "execution_count": 264,
   "metadata": {},
   "outputs": [],
   "source": [
    "lagged_days = 3\n",
    "for i in range(1, lagged_days + 1):\n",
    "    df[f'open_-{i}_days'] = df['open'].shift(i)\n",
    "    df[f'high_-{i}_days'] = df['high'].shift(i)\n",
    "    df[f'low_-{i}_days'] = df['low'].shift(i)\n",
    "    df[f'close_-{i}_days'] = df['close'].shift(i)\n",
    "    df[f'volume_-{i}_days'] = df['volume'].shift(i)\n",
    "\n",
    "df.dropna(inplace=True)\n",
    "\n",
    "# we only want historical data, so current data really doesn't help much. We do want current day's high though.\n",
    "columns_to_drop = ['open', 'low', 'close', 'volume']\n",
    "df.drop(columns=columns_to_drop, inplace=True)\n"
   ]
  },
  {
   "cell_type": "code",
   "execution_count": 265,
   "metadata": {},
   "outputs": [
    {
     "data": {
      "text/html": [
       "<div>\n",
       "<style scoped>\n",
       "    .dataframe tbody tr th:only-of-type {\n",
       "        vertical-align: middle;\n",
       "    }\n",
       "\n",
       "    .dataframe tbody tr th {\n",
       "        vertical-align: top;\n",
       "    }\n",
       "\n",
       "    .dataframe thead th {\n",
       "        text-align: right;\n",
       "    }\n",
       "</style>\n",
       "<table border=\"1\" class=\"dataframe\">\n",
       "  <thead>\n",
       "    <tr style=\"text-align: right;\">\n",
       "      <th></th>\n",
       "      <th>high</th>\n",
       "      <th>year</th>\n",
       "      <th>day_sin</th>\n",
       "      <th>day_cos</th>\n",
       "      <th>month_sin</th>\n",
       "      <th>month_cos</th>\n",
       "      <th>open_-1_days</th>\n",
       "      <th>high_-1_days</th>\n",
       "      <th>low_-1_days</th>\n",
       "      <th>close_-1_days</th>\n",
       "      <th>...</th>\n",
       "      <th>open_-2_days</th>\n",
       "      <th>high_-2_days</th>\n",
       "      <th>low_-2_days</th>\n",
       "      <th>close_-2_days</th>\n",
       "      <th>volume_-2_days</th>\n",
       "      <th>open_-3_days</th>\n",
       "      <th>high_-3_days</th>\n",
       "      <th>low_-3_days</th>\n",
       "      <th>close_-3_days</th>\n",
       "      <th>volume_-3_days</th>\n",
       "    </tr>\n",
       "  </thead>\n",
       "  <tbody>\n",
       "    <tr>\n",
       "      <th>3</th>\n",
       "      <td>67.6628</td>\n",
       "      <td>2013</td>\n",
       "      <td>0.974928</td>\n",
       "      <td>-0.222521</td>\n",
       "      <td>0.866025</td>\n",
       "      <td>0.5</td>\n",
       "      <td>68.5014</td>\n",
       "      <td>68.9114</td>\n",
       "      <td>66.8205</td>\n",
       "      <td>66.8428</td>\n",
       "      <td>...</td>\n",
       "      <td>68.0714</td>\n",
       "      <td>69.2771</td>\n",
       "      <td>67.6071</td>\n",
       "      <td>68.5614</td>\n",
       "      <td>129029425.0</td>\n",
       "      <td>67.7142</td>\n",
       "      <td>68.4014</td>\n",
       "      <td>66.8928</td>\n",
       "      <td>67.8542</td>\n",
       "      <td>158168416.0</td>\n",
       "    </tr>\n",
       "    <tr>\n",
       "      <th>4</th>\n",
       "      <td>67.3771</td>\n",
       "      <td>2013</td>\n",
       "      <td>0.433884</td>\n",
       "      <td>-0.900969</td>\n",
       "      <td>0.866025</td>\n",
       "      <td>0.5</td>\n",
       "      <td>66.7442</td>\n",
       "      <td>67.6628</td>\n",
       "      <td>66.1742</td>\n",
       "      <td>66.7156</td>\n",
       "      <td>...</td>\n",
       "      <td>68.5014</td>\n",
       "      <td>68.9114</td>\n",
       "      <td>66.8205</td>\n",
       "      <td>66.8428</td>\n",
       "      <td>151829363.0</td>\n",
       "      <td>68.0714</td>\n",
       "      <td>69.2771</td>\n",
       "      <td>67.6071</td>\n",
       "      <td>68.5614</td>\n",
       "      <td>129029425.0</td>\n",
       "    </tr>\n",
       "    <tr>\n",
       "      <th>5</th>\n",
       "      <td>67.1656</td>\n",
       "      <td>2013</td>\n",
       "      <td>-0.433884</td>\n",
       "      <td>-0.900969</td>\n",
       "      <td>0.866025</td>\n",
       "      <td>0.5</td>\n",
       "      <td>66.3599</td>\n",
       "      <td>67.3771</td>\n",
       "      <td>66.2885</td>\n",
       "      <td>66.6556</td>\n",
       "      <td>...</td>\n",
       "      <td>66.7442</td>\n",
       "      <td>67.6628</td>\n",
       "      <td>66.1742</td>\n",
       "      <td>66.7156</td>\n",
       "      <td>118721995.0</td>\n",
       "      <td>68.5014</td>\n",
       "      <td>68.9114</td>\n",
       "      <td>66.8205</td>\n",
       "      <td>66.8428</td>\n",
       "      <td>151829363.0</td>\n",
       "    </tr>\n",
       "    <tr>\n",
       "      <th>6</th>\n",
       "      <td>66.1042</td>\n",
       "      <td>2013</td>\n",
       "      <td>0.781831</td>\n",
       "      <td>0.623490</td>\n",
       "      <td>0.866025</td>\n",
       "      <td>0.5</td>\n",
       "      <td>66.9785</td>\n",
       "      <td>67.1656</td>\n",
       "      <td>65.7028</td>\n",
       "      <td>65.7371</td>\n",
       "      <td>...</td>\n",
       "      <td>66.3599</td>\n",
       "      <td>67.3771</td>\n",
       "      <td>66.2885</td>\n",
       "      <td>66.6556</td>\n",
       "      <td>88809154.0</td>\n",
       "      <td>66.7442</td>\n",
       "      <td>67.6628</td>\n",
       "      <td>66.1742</td>\n",
       "      <td>66.7156</td>\n",
       "      <td>118721995.0</td>\n",
       "    </tr>\n",
       "    <tr>\n",
       "      <th>7</th>\n",
       "      <td>65.3842</td>\n",
       "      <td>2013</td>\n",
       "      <td>0.974928</td>\n",
       "      <td>-0.222521</td>\n",
       "      <td>0.866025</td>\n",
       "      <td>0.5</td>\n",
       "      <td>65.8714</td>\n",
       "      <td>66.1042</td>\n",
       "      <td>64.8356</td>\n",
       "      <td>65.7128</td>\n",
       "      <td>...</td>\n",
       "      <td>66.9785</td>\n",
       "      <td>67.1656</td>\n",
       "      <td>65.7028</td>\n",
       "      <td>65.7371</td>\n",
       "      <td>97924631.0</td>\n",
       "      <td>66.3599</td>\n",
       "      <td>67.3771</td>\n",
       "      <td>66.2885</td>\n",
       "      <td>66.6556</td>\n",
       "      <td>88809154.0</td>\n",
       "    </tr>\n",
       "  </tbody>\n",
       "</table>\n",
       "<p>5 rows × 21 columns</p>\n",
       "</div>"
      ],
      "text/plain": [
       "      high  year   day_sin   day_cos  month_sin  month_cos  open_-1_days  \\\n",
       "3  67.6628  2013  0.974928 -0.222521   0.866025        0.5       68.5014   \n",
       "4  67.3771  2013  0.433884 -0.900969   0.866025        0.5       66.7442   \n",
       "5  67.1656  2013 -0.433884 -0.900969   0.866025        0.5       66.3599   \n",
       "6  66.1042  2013  0.781831  0.623490   0.866025        0.5       66.9785   \n",
       "7  65.3842  2013  0.974928 -0.222521   0.866025        0.5       65.8714   \n",
       "\n",
       "   high_-1_days  low_-1_days  close_-1_days  ...  open_-2_days  high_-2_days  \\\n",
       "3       68.9114      66.8205        66.8428  ...       68.0714       69.2771   \n",
       "4       67.6628      66.1742        66.7156  ...       68.5014       68.9114   \n",
       "5       67.3771      66.2885        66.6556  ...       66.7442       67.6628   \n",
       "6       67.1656      65.7028        65.7371  ...       66.3599       67.3771   \n",
       "7       66.1042      64.8356        65.7128  ...       66.9785       67.1656   \n",
       "\n",
       "   low_-2_days  close_-2_days  volume_-2_days  open_-3_days  high_-3_days  \\\n",
       "3      67.6071        68.5614     129029425.0       67.7142       68.4014   \n",
       "4      66.8205        66.8428     151829363.0       68.0714       69.2771   \n",
       "5      66.1742        66.7156     118721995.0       68.5014       68.9114   \n",
       "6      66.2885        66.6556      88809154.0       66.7442       67.6628   \n",
       "7      65.7028        65.7371      97924631.0       66.3599       67.3771   \n",
       "\n",
       "   low_-3_days  close_-3_days  volume_-3_days  \n",
       "3      66.8928        67.8542     158168416.0  \n",
       "4      67.6071        68.5614     129029425.0  \n",
       "5      66.8205        66.8428     151829363.0  \n",
       "6      66.1742        66.7156     118721995.0  \n",
       "7      66.2885        66.6556      88809154.0  \n",
       "\n",
       "[5 rows x 21 columns]"
      ]
     },
     "execution_count": 265,
     "metadata": {},
     "output_type": "execute_result"
    }
   ],
   "source": [
    "df.head()"
   ]
  },
  {
   "cell_type": "markdown",
   "metadata": {},
   "source": [
    "Now, let's create the training and testing sets."
   ]
  },
  {
   "cell_type": "code",
   "execution_count": 266,
   "metadata": {},
   "outputs": [
    {
     "name": "stdout",
     "output_type": "stream",
     "text": [
      "(1256, 20)\n",
      "(1256,)\n"
     ]
    }
   ],
   "source": [
    "features = list(df.columns)\n",
    "features.remove('high')\n",
    "\n",
    "target = 'high'\n",
    "\n",
    "X = df[features]\n",
    "y = df[target]\n",
    "\n",
    "print(X.shape)\n",
    "print(y.shape)"
   ]
  },
  {
   "cell_type": "code",
   "execution_count": 267,
   "metadata": {},
   "outputs": [],
   "source": [
    "X_train, X_test, y_train, y_test = train_test_split(X, y, test_size=0.2, random_state=RANDOM_STATE)"
   ]
  },
  {
   "cell_type": "markdown",
   "metadata": {},
   "source": [
    "We decided to use gridsearch to find the best of the 3 proposed techniques.\n",
    "Robust scaler is used since it handles outliers better, and stock data will likely have outliers."
   ]
  },
  {
   "cell_type": "code",
   "execution_count": 268,
   "metadata": {},
   "outputs": [],
   "source": [
    "pipeline_lrg = Pipeline([\n",
    "    ('scaler', RobustScaler()),\n",
    "    ('lrg', LinearRegression()),\n",
    "])\n",
    "\n",
    "pipeline_mlr = Pipeline([\n",
    "    ('scaler', RobustScaler()),\n",
    "    ('mlr', MLPRegressor(max_iter=500, early_stopping=True, random_state=RANDOM_STATE)),\n",
    "])\n",
    "\n",
    "pipeline_svr = Pipeline([\n",
    "    ('scaler', RobustScaler()),\n",
    "    ('svr', SVR(max_iter=500)),  \n",
    "])\n",
    "\n",
    "alpha_params = list(np.logspace(-4, 2, 7))\n",
    "\n",
    "gamma_range = np.logspace(-9, 3, 13)\n",
    "gamma_params = gamma_range.tolist()\n",
    "gamma_params.append('scale')\n",
    "gamma_params.append('auto')\n",
    "\n",
    "param_grid_lrg = {\n",
    "    'lrg__fit_intercept': [True, False],\n",
    "}\n",
    "\n",
    "param_grid_mlr = {\n",
    "    'mlr__hidden_layer_sizes': [1, 10, 100],\n",
    "    'mlr__activation': ['identity', 'logistic', 'tanh', 'relu'],\n",
    "    'mlr__solver': ['sgd', 'adam'],\n",
    "    'mlr__alpha': alpha_params,\n",
    "}\n",
    "\n",
    "param_grid_svr = {\n",
    "    'svr__C': [0.1, 0.5, 1.0, 10.0, 100.0],\n",
    "    'svr__gamma': gamma_params,\n",
    "    'svr__kernel': ['linear', 'poly', 'rbf']\n",
    "}\n",
    "\n",
    "scoring = {\n",
    "    'r2': make_scorer(r2_score),\n",
    "    'mae': make_scorer(mean_absolute_error),\n",
    "    'mse': make_scorer(mean_squared_error),\n",
    "}\n",
    "\n"
   ]
  },
  {
   "cell_type": "code",
   "execution_count": 269,
   "metadata": {},
   "outputs": [
    {
     "name": "stdout",
     "output_type": "stream",
     "text": [
      "Fitting 5 folds for each of 2 candidates, totalling 10 fits\n"
     ]
    },
    {
     "data": {
      "text/html": [
       "<style>#sk-container-id-24 {color: black;}#sk-container-id-24 pre{padding: 0;}#sk-container-id-24 div.sk-toggleable {background-color: white;}#sk-container-id-24 label.sk-toggleable__label {cursor: pointer;display: block;width: 100%;margin-bottom: 0;padding: 0.3em;box-sizing: border-box;text-align: center;}#sk-container-id-24 label.sk-toggleable__label-arrow:before {content: \"▸\";float: left;margin-right: 0.25em;color: #696969;}#sk-container-id-24 label.sk-toggleable__label-arrow:hover:before {color: black;}#sk-container-id-24 div.sk-estimator:hover label.sk-toggleable__label-arrow:before {color: black;}#sk-container-id-24 div.sk-toggleable__content {max-height: 0;max-width: 0;overflow: hidden;text-align: left;background-color: #f0f8ff;}#sk-container-id-24 div.sk-toggleable__content pre {margin: 0.2em;color: black;border-radius: 0.25em;background-color: #f0f8ff;}#sk-container-id-24 input.sk-toggleable__control:checked~div.sk-toggleable__content {max-height: 200px;max-width: 100%;overflow: auto;}#sk-container-id-24 input.sk-toggleable__control:checked~label.sk-toggleable__label-arrow:before {content: \"▾\";}#sk-container-id-24 div.sk-estimator input.sk-toggleable__control:checked~label.sk-toggleable__label {background-color: #d4ebff;}#sk-container-id-24 div.sk-label input.sk-toggleable__control:checked~label.sk-toggleable__label {background-color: #d4ebff;}#sk-container-id-24 input.sk-hidden--visually {border: 0;clip: rect(1px 1px 1px 1px);clip: rect(1px, 1px, 1px, 1px);height: 1px;margin: -1px;overflow: hidden;padding: 0;position: absolute;width: 1px;}#sk-container-id-24 div.sk-estimator {font-family: monospace;background-color: #f0f8ff;border: 1px dotted black;border-radius: 0.25em;box-sizing: border-box;margin-bottom: 0.5em;}#sk-container-id-24 div.sk-estimator:hover {background-color: #d4ebff;}#sk-container-id-24 div.sk-parallel-item::after {content: \"\";width: 100%;border-bottom: 1px solid gray;flex-grow: 1;}#sk-container-id-24 div.sk-label:hover label.sk-toggleable__label {background-color: #d4ebff;}#sk-container-id-24 div.sk-serial::before {content: \"\";position: absolute;border-left: 1px solid gray;box-sizing: border-box;top: 0;bottom: 0;left: 50%;z-index: 0;}#sk-container-id-24 div.sk-serial {display: flex;flex-direction: column;align-items: center;background-color: white;padding-right: 0.2em;padding-left: 0.2em;position: relative;}#sk-container-id-24 div.sk-item {position: relative;z-index: 1;}#sk-container-id-24 div.sk-parallel {display: flex;align-items: stretch;justify-content: center;background-color: white;position: relative;}#sk-container-id-24 div.sk-item::before, #sk-container-id-24 div.sk-parallel-item::before {content: \"\";position: absolute;border-left: 1px solid gray;box-sizing: border-box;top: 0;bottom: 0;left: 50%;z-index: -1;}#sk-container-id-24 div.sk-parallel-item {display: flex;flex-direction: column;z-index: 1;position: relative;background-color: white;}#sk-container-id-24 div.sk-parallel-item:first-child::after {align-self: flex-end;width: 50%;}#sk-container-id-24 div.sk-parallel-item:last-child::after {align-self: flex-start;width: 50%;}#sk-container-id-24 div.sk-parallel-item:only-child::after {width: 0;}#sk-container-id-24 div.sk-dashed-wrapped {border: 1px dashed gray;margin: 0 0.4em 0.5em 0.4em;box-sizing: border-box;padding-bottom: 0.4em;background-color: white;}#sk-container-id-24 div.sk-label label {font-family: monospace;font-weight: bold;display: inline-block;line-height: 1.2em;}#sk-container-id-24 div.sk-label-container {text-align: center;}#sk-container-id-24 div.sk-container {/* jupyter's `normalize.less` sets `[hidden] { display: none; }` but bootstrap.min.css set `[hidden] { display: none !important; }` so we also need the `!important` here to be able to override the default hidden behavior on the sphinx rendered scikit-learn.org. See: https://github.com/scikit-learn/scikit-learn/issues/21755 */display: inline-block !important;position: relative;}#sk-container-id-24 div.sk-text-repr-fallback {display: none;}</style><div id=\"sk-container-id-24\" class=\"sk-top-container\"><div class=\"sk-text-repr-fallback\"><pre>GridSearchCV(cv=5,\n",
       "             estimator=Pipeline(steps=[(&#x27;scaler&#x27;, RobustScaler()),\n",
       "                                       (&#x27;lrg&#x27;, LinearRegression())]),\n",
       "             n_jobs=-1, param_grid={&#x27;lrg__fit_intercept&#x27;: [True, False]},\n",
       "             refit=&#x27;r2&#x27;, return_train_score=True,\n",
       "             scoring={&#x27;mae&#x27;: make_scorer(mean_absolute_error),\n",
       "                      &#x27;mse&#x27;: make_scorer(mean_squared_error),\n",
       "                      &#x27;r2&#x27;: make_scorer(r2_score)},\n",
       "             verbose=3)</pre><b>In a Jupyter environment, please rerun this cell to show the HTML representation or trust the notebook. <br />On GitHub, the HTML representation is unable to render, please try loading this page with nbviewer.org.</b></div><div class=\"sk-container\" hidden><div class=\"sk-item sk-dashed-wrapped\"><div class=\"sk-label-container\"><div class=\"sk-label sk-toggleable\"><input class=\"sk-toggleable__control sk-hidden--visually\" id=\"sk-estimator-id-93\" type=\"checkbox\" ><label for=\"sk-estimator-id-93\" class=\"sk-toggleable__label sk-toggleable__label-arrow\">GridSearchCV</label><div class=\"sk-toggleable__content\"><pre>GridSearchCV(cv=5,\n",
       "             estimator=Pipeline(steps=[(&#x27;scaler&#x27;, RobustScaler()),\n",
       "                                       (&#x27;lrg&#x27;, LinearRegression())]),\n",
       "             n_jobs=-1, param_grid={&#x27;lrg__fit_intercept&#x27;: [True, False]},\n",
       "             refit=&#x27;r2&#x27;, return_train_score=True,\n",
       "             scoring={&#x27;mae&#x27;: make_scorer(mean_absolute_error),\n",
       "                      &#x27;mse&#x27;: make_scorer(mean_squared_error),\n",
       "                      &#x27;r2&#x27;: make_scorer(r2_score)},\n",
       "             verbose=3)</pre></div></div></div><div class=\"sk-parallel\"><div class=\"sk-parallel-item\"><div class=\"sk-item\"><div class=\"sk-label-container\"><div class=\"sk-label sk-toggleable\"><input class=\"sk-toggleable__control sk-hidden--visually\" id=\"sk-estimator-id-94\" type=\"checkbox\" ><label for=\"sk-estimator-id-94\" class=\"sk-toggleable__label sk-toggleable__label-arrow\">estimator: Pipeline</label><div class=\"sk-toggleable__content\"><pre>Pipeline(steps=[(&#x27;scaler&#x27;, RobustScaler()), (&#x27;lrg&#x27;, LinearRegression())])</pre></div></div></div><div class=\"sk-serial\"><div class=\"sk-item\"><div class=\"sk-serial\"><div class=\"sk-item\"><div class=\"sk-estimator sk-toggleable\"><input class=\"sk-toggleable__control sk-hidden--visually\" id=\"sk-estimator-id-95\" type=\"checkbox\" ><label for=\"sk-estimator-id-95\" class=\"sk-toggleable__label sk-toggleable__label-arrow\">RobustScaler</label><div class=\"sk-toggleable__content\"><pre>RobustScaler()</pre></div></div></div><div class=\"sk-item\"><div class=\"sk-estimator sk-toggleable\"><input class=\"sk-toggleable__control sk-hidden--visually\" id=\"sk-estimator-id-96\" type=\"checkbox\" ><label for=\"sk-estimator-id-96\" class=\"sk-toggleable__label sk-toggleable__label-arrow\">LinearRegression</label><div class=\"sk-toggleable__content\"><pre>LinearRegression()</pre></div></div></div></div></div></div></div></div></div></div></div></div>"
      ],
      "text/plain": [
       "GridSearchCV(cv=5,\n",
       "             estimator=Pipeline(steps=[('scaler', RobustScaler()),\n",
       "                                       ('lrg', LinearRegression())]),\n",
       "             n_jobs=-1, param_grid={'lrg__fit_intercept': [True, False]},\n",
       "             refit='r2', return_train_score=True,\n",
       "             scoring={'mae': make_scorer(mean_absolute_error),\n",
       "                      'mse': make_scorer(mean_squared_error),\n",
       "                      'r2': make_scorer(r2_score)},\n",
       "             verbose=3)"
      ]
     },
     "execution_count": 269,
     "metadata": {},
     "output_type": "execute_result"
    }
   ],
   "source": [
    "\n",
    "grid_search_lrg = GridSearchCV(estimator=pipeline_lrg, param_grid=param_grid_lrg, cv=5, scoring=scoring, refit='r2', verbose=3, n_jobs=-1, return_train_score=True)\n",
    "grid_search_lrg.fit(X_train, y_train)"
   ]
  },
  {
   "cell_type": "code",
   "execution_count": 270,
   "metadata": {},
   "outputs": [
    {
     "name": "stdout",
     "output_type": "stream",
     "text": [
      "Fitting 5 folds for each of 168 candidates, totalling 840 fits\n"
     ]
    },
    {
     "data": {
      "text/html": [
       "<style>#sk-container-id-25 {color: black;}#sk-container-id-25 pre{padding: 0;}#sk-container-id-25 div.sk-toggleable {background-color: white;}#sk-container-id-25 label.sk-toggleable__label {cursor: pointer;display: block;width: 100%;margin-bottom: 0;padding: 0.3em;box-sizing: border-box;text-align: center;}#sk-container-id-25 label.sk-toggleable__label-arrow:before {content: \"▸\";float: left;margin-right: 0.25em;color: #696969;}#sk-container-id-25 label.sk-toggleable__label-arrow:hover:before {color: black;}#sk-container-id-25 div.sk-estimator:hover label.sk-toggleable__label-arrow:before {color: black;}#sk-container-id-25 div.sk-toggleable__content {max-height: 0;max-width: 0;overflow: hidden;text-align: left;background-color: #f0f8ff;}#sk-container-id-25 div.sk-toggleable__content pre {margin: 0.2em;color: black;border-radius: 0.25em;background-color: #f0f8ff;}#sk-container-id-25 input.sk-toggleable__control:checked~div.sk-toggleable__content {max-height: 200px;max-width: 100%;overflow: auto;}#sk-container-id-25 input.sk-toggleable__control:checked~label.sk-toggleable__label-arrow:before {content: \"▾\";}#sk-container-id-25 div.sk-estimator input.sk-toggleable__control:checked~label.sk-toggleable__label {background-color: #d4ebff;}#sk-container-id-25 div.sk-label input.sk-toggleable__control:checked~label.sk-toggleable__label {background-color: #d4ebff;}#sk-container-id-25 input.sk-hidden--visually {border: 0;clip: rect(1px 1px 1px 1px);clip: rect(1px, 1px, 1px, 1px);height: 1px;margin: -1px;overflow: hidden;padding: 0;position: absolute;width: 1px;}#sk-container-id-25 div.sk-estimator {font-family: monospace;background-color: #f0f8ff;border: 1px dotted black;border-radius: 0.25em;box-sizing: border-box;margin-bottom: 0.5em;}#sk-container-id-25 div.sk-estimator:hover {background-color: #d4ebff;}#sk-container-id-25 div.sk-parallel-item::after {content: \"\";width: 100%;border-bottom: 1px solid gray;flex-grow: 1;}#sk-container-id-25 div.sk-label:hover label.sk-toggleable__label {background-color: #d4ebff;}#sk-container-id-25 div.sk-serial::before {content: \"\";position: absolute;border-left: 1px solid gray;box-sizing: border-box;top: 0;bottom: 0;left: 50%;z-index: 0;}#sk-container-id-25 div.sk-serial {display: flex;flex-direction: column;align-items: center;background-color: white;padding-right: 0.2em;padding-left: 0.2em;position: relative;}#sk-container-id-25 div.sk-item {position: relative;z-index: 1;}#sk-container-id-25 div.sk-parallel {display: flex;align-items: stretch;justify-content: center;background-color: white;position: relative;}#sk-container-id-25 div.sk-item::before, #sk-container-id-25 div.sk-parallel-item::before {content: \"\";position: absolute;border-left: 1px solid gray;box-sizing: border-box;top: 0;bottom: 0;left: 50%;z-index: -1;}#sk-container-id-25 div.sk-parallel-item {display: flex;flex-direction: column;z-index: 1;position: relative;background-color: white;}#sk-container-id-25 div.sk-parallel-item:first-child::after {align-self: flex-end;width: 50%;}#sk-container-id-25 div.sk-parallel-item:last-child::after {align-self: flex-start;width: 50%;}#sk-container-id-25 div.sk-parallel-item:only-child::after {width: 0;}#sk-container-id-25 div.sk-dashed-wrapped {border: 1px dashed gray;margin: 0 0.4em 0.5em 0.4em;box-sizing: border-box;padding-bottom: 0.4em;background-color: white;}#sk-container-id-25 div.sk-label label {font-family: monospace;font-weight: bold;display: inline-block;line-height: 1.2em;}#sk-container-id-25 div.sk-label-container {text-align: center;}#sk-container-id-25 div.sk-container {/* jupyter's `normalize.less` sets `[hidden] { display: none; }` but bootstrap.min.css set `[hidden] { display: none !important; }` so we also need the `!important` here to be able to override the default hidden behavior on the sphinx rendered scikit-learn.org. See: https://github.com/scikit-learn/scikit-learn/issues/21755 */display: inline-block !important;position: relative;}#sk-container-id-25 div.sk-text-repr-fallback {display: none;}</style><div id=\"sk-container-id-25\" class=\"sk-top-container\"><div class=\"sk-text-repr-fallback\"><pre>GridSearchCV(cv=5,\n",
       "             estimator=Pipeline(steps=[(&#x27;scaler&#x27;, RobustScaler()),\n",
       "                                       (&#x27;mlr&#x27;,\n",
       "                                        MLPRegressor(early_stopping=True,\n",
       "                                                     max_iter=500,\n",
       "                                                     random_state=0))]),\n",
       "             n_jobs=-1,\n",
       "             param_grid={&#x27;mlr__activation&#x27;: [&#x27;identity&#x27;, &#x27;logistic&#x27;, &#x27;tanh&#x27;,\n",
       "                                             &#x27;relu&#x27;],\n",
       "                         &#x27;mlr__alpha&#x27;: [0.0001, 0.001, 0.01, 0.1, 1.0, 10.0,\n",
       "                                        100.0],\n",
       "                         &#x27;mlr__hidden_layer_sizes&#x27;: [1, 10, 100],\n",
       "                         &#x27;mlr__solver&#x27;: [&#x27;sgd&#x27;, &#x27;adam&#x27;]},\n",
       "             refit=&#x27;r2&#x27;, return_train_score=True,\n",
       "             scoring={&#x27;mae&#x27;: make_scorer(mean_absolute_error),\n",
       "                      &#x27;mse&#x27;: make_scorer(mean_squared_error),\n",
       "                      &#x27;r2&#x27;: make_scorer(r2_score)},\n",
       "             verbose=3)</pre><b>In a Jupyter environment, please rerun this cell to show the HTML representation or trust the notebook. <br />On GitHub, the HTML representation is unable to render, please try loading this page with nbviewer.org.</b></div><div class=\"sk-container\" hidden><div class=\"sk-item sk-dashed-wrapped\"><div class=\"sk-label-container\"><div class=\"sk-label sk-toggleable\"><input class=\"sk-toggleable__control sk-hidden--visually\" id=\"sk-estimator-id-97\" type=\"checkbox\" ><label for=\"sk-estimator-id-97\" class=\"sk-toggleable__label sk-toggleable__label-arrow\">GridSearchCV</label><div class=\"sk-toggleable__content\"><pre>GridSearchCV(cv=5,\n",
       "             estimator=Pipeline(steps=[(&#x27;scaler&#x27;, RobustScaler()),\n",
       "                                       (&#x27;mlr&#x27;,\n",
       "                                        MLPRegressor(early_stopping=True,\n",
       "                                                     max_iter=500,\n",
       "                                                     random_state=0))]),\n",
       "             n_jobs=-1,\n",
       "             param_grid={&#x27;mlr__activation&#x27;: [&#x27;identity&#x27;, &#x27;logistic&#x27;, &#x27;tanh&#x27;,\n",
       "                                             &#x27;relu&#x27;],\n",
       "                         &#x27;mlr__alpha&#x27;: [0.0001, 0.001, 0.01, 0.1, 1.0, 10.0,\n",
       "                                        100.0],\n",
       "                         &#x27;mlr__hidden_layer_sizes&#x27;: [1, 10, 100],\n",
       "                         &#x27;mlr__solver&#x27;: [&#x27;sgd&#x27;, &#x27;adam&#x27;]},\n",
       "             refit=&#x27;r2&#x27;, return_train_score=True,\n",
       "             scoring={&#x27;mae&#x27;: make_scorer(mean_absolute_error),\n",
       "                      &#x27;mse&#x27;: make_scorer(mean_squared_error),\n",
       "                      &#x27;r2&#x27;: make_scorer(r2_score)},\n",
       "             verbose=3)</pre></div></div></div><div class=\"sk-parallel\"><div class=\"sk-parallel-item\"><div class=\"sk-item\"><div class=\"sk-label-container\"><div class=\"sk-label sk-toggleable\"><input class=\"sk-toggleable__control sk-hidden--visually\" id=\"sk-estimator-id-98\" type=\"checkbox\" ><label for=\"sk-estimator-id-98\" class=\"sk-toggleable__label sk-toggleable__label-arrow\">estimator: Pipeline</label><div class=\"sk-toggleable__content\"><pre>Pipeline(steps=[(&#x27;scaler&#x27;, RobustScaler()),\n",
       "                (&#x27;mlr&#x27;,\n",
       "                 MLPRegressor(early_stopping=True, max_iter=500,\n",
       "                              random_state=0))])</pre></div></div></div><div class=\"sk-serial\"><div class=\"sk-item\"><div class=\"sk-serial\"><div class=\"sk-item\"><div class=\"sk-estimator sk-toggleable\"><input class=\"sk-toggleable__control sk-hidden--visually\" id=\"sk-estimator-id-99\" type=\"checkbox\" ><label for=\"sk-estimator-id-99\" class=\"sk-toggleable__label sk-toggleable__label-arrow\">RobustScaler</label><div class=\"sk-toggleable__content\"><pre>RobustScaler()</pre></div></div></div><div class=\"sk-item\"><div class=\"sk-estimator sk-toggleable\"><input class=\"sk-toggleable__control sk-hidden--visually\" id=\"sk-estimator-id-100\" type=\"checkbox\" ><label for=\"sk-estimator-id-100\" class=\"sk-toggleable__label sk-toggleable__label-arrow\">MLPRegressor</label><div class=\"sk-toggleable__content\"><pre>MLPRegressor(early_stopping=True, max_iter=500, random_state=0)</pre></div></div></div></div></div></div></div></div></div></div></div></div>"
      ],
      "text/plain": [
       "GridSearchCV(cv=5,\n",
       "             estimator=Pipeline(steps=[('scaler', RobustScaler()),\n",
       "                                       ('mlr',\n",
       "                                        MLPRegressor(early_stopping=True,\n",
       "                                                     max_iter=500,\n",
       "                                                     random_state=0))]),\n",
       "             n_jobs=-1,\n",
       "             param_grid={'mlr__activation': ['identity', 'logistic', 'tanh',\n",
       "                                             'relu'],\n",
       "                         'mlr__alpha': [0.0001, 0.001, 0.01, 0.1, 1.0, 10.0,\n",
       "                                        100.0],\n",
       "                         'mlr__hidden_layer_sizes': [1, 10, 100],\n",
       "                         'mlr__solver': ['sgd', 'adam']},\n",
       "             refit='r2', return_train_score=True,\n",
       "             scoring={'mae': make_scorer(mean_absolute_error),\n",
       "                      'mse': make_scorer(mean_squared_error),\n",
       "                      'r2': make_scorer(r2_score)},\n",
       "             verbose=3)"
      ]
     },
     "execution_count": 270,
     "metadata": {},
     "output_type": "execute_result"
    }
   ],
   "source": [
    "grid_search_mlr = GridSearchCV(estimator=pipeline_mlr, param_grid=param_grid_mlr, cv=5, scoring=scoring, refit='r2', verbose=3, n_jobs=-1, return_train_score=True)\n",
    "grid_search_mlr.fit(X_train, y_train)"
   ]
  },
  {
   "cell_type": "code",
   "execution_count": 271,
   "metadata": {},
   "outputs": [
    {
     "name": "stdout",
     "output_type": "stream",
     "text": [
      "Fitting 5 folds for each of 225 candidates, totalling 1125 fits\n"
     ]
    },
    {
     "name": "stderr",
     "output_type": "stream",
     "text": [
      "c:\\Users\\Tyler\\anaconda3\\Lib\\site-packages\\sklearn\\svm\\_base.py:297: ConvergenceWarning: Solver terminated early (max_iter=500).  Consider pre-processing your data with StandardScaler or MinMaxScaler.\n",
      "  warnings.warn(\n"
     ]
    },
    {
     "data": {
      "text/html": [
       "<style>#sk-container-id-26 {color: black;}#sk-container-id-26 pre{padding: 0;}#sk-container-id-26 div.sk-toggleable {background-color: white;}#sk-container-id-26 label.sk-toggleable__label {cursor: pointer;display: block;width: 100%;margin-bottom: 0;padding: 0.3em;box-sizing: border-box;text-align: center;}#sk-container-id-26 label.sk-toggleable__label-arrow:before {content: \"▸\";float: left;margin-right: 0.25em;color: #696969;}#sk-container-id-26 label.sk-toggleable__label-arrow:hover:before {color: black;}#sk-container-id-26 div.sk-estimator:hover label.sk-toggleable__label-arrow:before {color: black;}#sk-container-id-26 div.sk-toggleable__content {max-height: 0;max-width: 0;overflow: hidden;text-align: left;background-color: #f0f8ff;}#sk-container-id-26 div.sk-toggleable__content pre {margin: 0.2em;color: black;border-radius: 0.25em;background-color: #f0f8ff;}#sk-container-id-26 input.sk-toggleable__control:checked~div.sk-toggleable__content {max-height: 200px;max-width: 100%;overflow: auto;}#sk-container-id-26 input.sk-toggleable__control:checked~label.sk-toggleable__label-arrow:before {content: \"▾\";}#sk-container-id-26 div.sk-estimator input.sk-toggleable__control:checked~label.sk-toggleable__label {background-color: #d4ebff;}#sk-container-id-26 div.sk-label input.sk-toggleable__control:checked~label.sk-toggleable__label {background-color: #d4ebff;}#sk-container-id-26 input.sk-hidden--visually {border: 0;clip: rect(1px 1px 1px 1px);clip: rect(1px, 1px, 1px, 1px);height: 1px;margin: -1px;overflow: hidden;padding: 0;position: absolute;width: 1px;}#sk-container-id-26 div.sk-estimator {font-family: monospace;background-color: #f0f8ff;border: 1px dotted black;border-radius: 0.25em;box-sizing: border-box;margin-bottom: 0.5em;}#sk-container-id-26 div.sk-estimator:hover {background-color: #d4ebff;}#sk-container-id-26 div.sk-parallel-item::after {content: \"\";width: 100%;border-bottom: 1px solid gray;flex-grow: 1;}#sk-container-id-26 div.sk-label:hover label.sk-toggleable__label {background-color: #d4ebff;}#sk-container-id-26 div.sk-serial::before {content: \"\";position: absolute;border-left: 1px solid gray;box-sizing: border-box;top: 0;bottom: 0;left: 50%;z-index: 0;}#sk-container-id-26 div.sk-serial {display: flex;flex-direction: column;align-items: center;background-color: white;padding-right: 0.2em;padding-left: 0.2em;position: relative;}#sk-container-id-26 div.sk-item {position: relative;z-index: 1;}#sk-container-id-26 div.sk-parallel {display: flex;align-items: stretch;justify-content: center;background-color: white;position: relative;}#sk-container-id-26 div.sk-item::before, #sk-container-id-26 div.sk-parallel-item::before {content: \"\";position: absolute;border-left: 1px solid gray;box-sizing: border-box;top: 0;bottom: 0;left: 50%;z-index: -1;}#sk-container-id-26 div.sk-parallel-item {display: flex;flex-direction: column;z-index: 1;position: relative;background-color: white;}#sk-container-id-26 div.sk-parallel-item:first-child::after {align-self: flex-end;width: 50%;}#sk-container-id-26 div.sk-parallel-item:last-child::after {align-self: flex-start;width: 50%;}#sk-container-id-26 div.sk-parallel-item:only-child::after {width: 0;}#sk-container-id-26 div.sk-dashed-wrapped {border: 1px dashed gray;margin: 0 0.4em 0.5em 0.4em;box-sizing: border-box;padding-bottom: 0.4em;background-color: white;}#sk-container-id-26 div.sk-label label {font-family: monospace;font-weight: bold;display: inline-block;line-height: 1.2em;}#sk-container-id-26 div.sk-label-container {text-align: center;}#sk-container-id-26 div.sk-container {/* jupyter's `normalize.less` sets `[hidden] { display: none; }` but bootstrap.min.css set `[hidden] { display: none !important; }` so we also need the `!important` here to be able to override the default hidden behavior on the sphinx rendered scikit-learn.org. See: https://github.com/scikit-learn/scikit-learn/issues/21755 */display: inline-block !important;position: relative;}#sk-container-id-26 div.sk-text-repr-fallback {display: none;}</style><div id=\"sk-container-id-26\" class=\"sk-top-container\"><div class=\"sk-text-repr-fallback\"><pre>GridSearchCV(cv=5,\n",
       "             estimator=Pipeline(steps=[(&#x27;scaler&#x27;, RobustScaler()),\n",
       "                                       (&#x27;svr&#x27;, SVR(max_iter=500))]),\n",
       "             n_jobs=-1,\n",
       "             param_grid={&#x27;svr__C&#x27;: [0.1, 0.5, 1.0, 10.0, 100.0],\n",
       "                         &#x27;svr__gamma&#x27;: [1e-09, 1e-08, 1e-07, 1e-06, 1e-05,\n",
       "                                        0.0001, 0.001, 0.01, 0.1, 1.0, 10.0,\n",
       "                                        100.0, 1000.0, &#x27;scale&#x27;, &#x27;auto&#x27;],\n",
       "                         &#x27;svr__kernel&#x27;: [&#x27;linear&#x27;, &#x27;poly&#x27;, &#x27;rbf&#x27;]},\n",
       "             refit=&#x27;r2&#x27;, return_train_score=True,\n",
       "             scoring={&#x27;mae&#x27;: make_scorer(mean_absolute_error),\n",
       "                      &#x27;mse&#x27;: make_scorer(mean_squared_error),\n",
       "                      &#x27;r2&#x27;: make_scorer(r2_score)},\n",
       "             verbose=3)</pre><b>In a Jupyter environment, please rerun this cell to show the HTML representation or trust the notebook. <br />On GitHub, the HTML representation is unable to render, please try loading this page with nbviewer.org.</b></div><div class=\"sk-container\" hidden><div class=\"sk-item sk-dashed-wrapped\"><div class=\"sk-label-container\"><div class=\"sk-label sk-toggleable\"><input class=\"sk-toggleable__control sk-hidden--visually\" id=\"sk-estimator-id-101\" type=\"checkbox\" ><label for=\"sk-estimator-id-101\" class=\"sk-toggleable__label sk-toggleable__label-arrow\">GridSearchCV</label><div class=\"sk-toggleable__content\"><pre>GridSearchCV(cv=5,\n",
       "             estimator=Pipeline(steps=[(&#x27;scaler&#x27;, RobustScaler()),\n",
       "                                       (&#x27;svr&#x27;, SVR(max_iter=500))]),\n",
       "             n_jobs=-1,\n",
       "             param_grid={&#x27;svr__C&#x27;: [0.1, 0.5, 1.0, 10.0, 100.0],\n",
       "                         &#x27;svr__gamma&#x27;: [1e-09, 1e-08, 1e-07, 1e-06, 1e-05,\n",
       "                                        0.0001, 0.001, 0.01, 0.1, 1.0, 10.0,\n",
       "                                        100.0, 1000.0, &#x27;scale&#x27;, &#x27;auto&#x27;],\n",
       "                         &#x27;svr__kernel&#x27;: [&#x27;linear&#x27;, &#x27;poly&#x27;, &#x27;rbf&#x27;]},\n",
       "             refit=&#x27;r2&#x27;, return_train_score=True,\n",
       "             scoring={&#x27;mae&#x27;: make_scorer(mean_absolute_error),\n",
       "                      &#x27;mse&#x27;: make_scorer(mean_squared_error),\n",
       "                      &#x27;r2&#x27;: make_scorer(r2_score)},\n",
       "             verbose=3)</pre></div></div></div><div class=\"sk-parallel\"><div class=\"sk-parallel-item\"><div class=\"sk-item\"><div class=\"sk-label-container\"><div class=\"sk-label sk-toggleable\"><input class=\"sk-toggleable__control sk-hidden--visually\" id=\"sk-estimator-id-102\" type=\"checkbox\" ><label for=\"sk-estimator-id-102\" class=\"sk-toggleable__label sk-toggleable__label-arrow\">estimator: Pipeline</label><div class=\"sk-toggleable__content\"><pre>Pipeline(steps=[(&#x27;scaler&#x27;, RobustScaler()), (&#x27;svr&#x27;, SVR(max_iter=500))])</pre></div></div></div><div class=\"sk-serial\"><div class=\"sk-item\"><div class=\"sk-serial\"><div class=\"sk-item\"><div class=\"sk-estimator sk-toggleable\"><input class=\"sk-toggleable__control sk-hidden--visually\" id=\"sk-estimator-id-103\" type=\"checkbox\" ><label for=\"sk-estimator-id-103\" class=\"sk-toggleable__label sk-toggleable__label-arrow\">RobustScaler</label><div class=\"sk-toggleable__content\"><pre>RobustScaler()</pre></div></div></div><div class=\"sk-item\"><div class=\"sk-estimator sk-toggleable\"><input class=\"sk-toggleable__control sk-hidden--visually\" id=\"sk-estimator-id-104\" type=\"checkbox\" ><label for=\"sk-estimator-id-104\" class=\"sk-toggleable__label sk-toggleable__label-arrow\">SVR</label><div class=\"sk-toggleable__content\"><pre>SVR(max_iter=500)</pre></div></div></div></div></div></div></div></div></div></div></div></div>"
      ],
      "text/plain": [
       "GridSearchCV(cv=5,\n",
       "             estimator=Pipeline(steps=[('scaler', RobustScaler()),\n",
       "                                       ('svr', SVR(max_iter=500))]),\n",
       "             n_jobs=-1,\n",
       "             param_grid={'svr__C': [0.1, 0.5, 1.0, 10.0, 100.0],\n",
       "                         'svr__gamma': [1e-09, 1e-08, 1e-07, 1e-06, 1e-05,\n",
       "                                        0.0001, 0.001, 0.01, 0.1, 1.0, 10.0,\n",
       "                                        100.0, 1000.0, 'scale', 'auto'],\n",
       "                         'svr__kernel': ['linear', 'poly', 'rbf']},\n",
       "             refit='r2', return_train_score=True,\n",
       "             scoring={'mae': make_scorer(mean_absolute_error),\n",
       "                      'mse': make_scorer(mean_squared_error),\n",
       "                      'r2': make_scorer(r2_score)},\n",
       "             verbose=3)"
      ]
     },
     "execution_count": 271,
     "metadata": {},
     "output_type": "execute_result"
    }
   ],
   "source": [
    "grid_search_svr = GridSearchCV(estimator=pipeline_svr, param_grid=param_grid_svr, cv=5, scoring=scoring, refit='r2', verbose=3, n_jobs=-1, return_train_score=True)\n",
    "grid_search_svr.fit(X_train, y_train)"
   ]
  },
  {
   "cell_type": "markdown",
   "metadata": {},
   "source": [
    "Above, some grid searches failed to find convergence and finished prematurely. That is ok, as long as we get one set of parameters that fit the data well."
   ]
  },
  {
   "cell_type": "code",
   "execution_count": 293,
   "metadata": {},
   "outputs": [
    {
     "name": "stdout",
     "output_type": "stream",
     "text": [
      "Linear Regression Results\n",
      "-------------------------------------\n",
      "Best Training R2 Score: 0.9986854174151304\n",
      "Best Testing R2 Score: 0.9985498652831369\n",
      "Best Training RMSE: 1.1157475103472425\n",
      "Best Testing RMSE: 1.167712790849491\n",
      "Best Training MAE: 0.7562314746526775\n",
      "Best Testing MAE: 0.780097828552165\n",
      "Best parameters: {'lrg__fit_intercept': True}\n",
      "\n",
      "\n",
      "\n",
      "MLP Regression Results\n",
      "-------------------------------------\n",
      "Best Training R2 Score: 0.997496376464172\n",
      "Best Testing R2 Score: 0.9973812749958156\n",
      "Best Training RMSE: 1.5398466407278197\n",
      "Best Testing RMSE: 1.5677564921911398\n",
      "Best Training MAE: 1.1118101003320024\n",
      "Best Testing MAE: 1.1241472963989387\n",
      "Best parameters: {'mlr__activation': 'identity', 'mlr__alpha': 0.0001, 'mlr__hidden_layer_sizes': 100, 'mlr__solver': 'sgd'}\n",
      "\n",
      "\n",
      "\n",
      "Support Vector Machines Regression Results\n",
      "-------------------------------------\n",
      "Best Training R2 Score: 0.9979007872132344\n",
      "Best Testing R2 Score: 0.9978505082971105\n",
      "Best Training RMSE: 1.4094283854618936\n",
      "Best Testing RMSE: 1.4228605131073657\n",
      "Best Training MAE: 0.9998761986727531\n",
      "Best Testing MAE: 1.0101582290089546\n",
      "Best parameters: {'svr__C': 1.0, 'svr__gamma': 1e-09, 'svr__kernel': 'linear'}\n"
     ]
    }
   ],
   "source": [
    "lrg_train_r2 = grid_search_lrg.cv_results_['mean_train_r2'][grid_search_lrg.best_index_]\n",
    "lrg_test_r2 = grid_search_lrg.best_score_\n",
    "lrg_train_rmse = math.sqrt(grid_search_lrg.cv_results_['mean_train_mse'][grid_search_lrg.best_index_])\n",
    "lrg_test_rmse = math.sqrt(grid_search_lrg.cv_results_['mean_test_mse'][grid_search_lrg.best_index_])\n",
    "lrg_train_mae = grid_search_lrg.cv_results_['mean_train_mae'][grid_search_lrg.best_index_]\n",
    "lrg_test_mae = grid_search_lrg.cv_results_['mean_test_mae'][grid_search_lrg.best_index_]\n",
    "\n",
    "print('Linear Regression Results')\n",
    "print('-------------------------------------')\n",
    "\n",
    "print('Best Training R2 Score:', lrg_train_r2)\n",
    "print('Best Testing R2 Score:', lrg_test_r2)\n",
    "print('Best Training RMSE:', lrg_train_rmse)\n",
    "print('Best Testing RMSE:', lrg_test_rmse)\n",
    "print('Best Training MAE:', lrg_train_mae)\n",
    "print('Best Testing MAE:', lrg_test_mae)\n",
    "print('Best parameters:', grid_search_lrg.best_params_)\n",
    "print('\\n\\n')\n",
    "\n",
    "mlr_train_r2 = grid_search_mlr.cv_results_['mean_train_r2'][grid_search_mlr.best_index_]\n",
    "mlr_test_r2 = grid_search_mlr.best_score_\n",
    "mlr_train_rmse = math.sqrt(grid_search_mlr.cv_results_['mean_train_mse'][grid_search_mlr.best_index_])\n",
    "mlr_test_rmse = math.sqrt(grid_search_mlr.cv_results_['mean_test_mse'][grid_search_mlr.best_index_])\n",
    "mlr_train_mae = grid_search_mlr.cv_results_['mean_train_mae'][grid_search_mlr.best_index_]\n",
    "mlr_test_mae = grid_search_mlr.cv_results_['mean_test_mae'][grid_search_mlr.best_index_]\n",
    "\n",
    "print('MLP Regression Results')\n",
    "print('-------------------------------------')\n",
    "\n",
    "print('Best Training R2 Score:', mlr_train_r2)\n",
    "print('Best Testing R2 Score:', mlr_test_r2)\n",
    "print('Best Training RMSE:', mlr_train_rmse)\n",
    "print('Best Testing RMSE:', mlr_test_rmse)\n",
    "print('Best Training MAE:', mlr_train_mae)\n",
    "print('Best Testing MAE:', mlr_test_mae)\n",
    "print('Best parameters:', grid_search_mlr.best_params_)\n",
    "\n",
    "\n",
    "print('\\n\\n')\n",
    "\n",
    "svr_train_r2 = grid_search_svr.cv_results_['mean_train_r2'][grid_search_svr.best_index_]\n",
    "svr_test_r2 = grid_search_svr.best_score_\n",
    "svr_train_rmse = math.sqrt(grid_search_svr.cv_results_['mean_train_mse'][grid_search_svr.best_index_])\n",
    "svr_test_rmse = math.sqrt(grid_search_svr.cv_results_['mean_test_mse'][grid_search_svr.best_index_])\n",
    "svr_train_mae = grid_search_svr.cv_results_['mean_train_mae'][grid_search_svr.best_index_]\n",
    "svr_test_mae = grid_search_svr.cv_results_['mean_test_mae'][grid_search_svr.best_index_]\n",
    "\n",
    "print('Support Vector Machines Regression Results')\n",
    "print('-------------------------------------')\n",
    "\n",
    "print('Best Training R2 Score:', svr_train_r2)\n",
    "print('Best Testing R2 Score:', svr_test_r2)\n",
    "print('Best Training RMSE:', svr_train_rmse)\n",
    "print('Best Testing RMSE:', svr_test_rmse)\n",
    "print('Best Training MAE:', svr_train_mae)\n",
    "print('Best Testing MAE:', svr_test_mae)\n",
    "print('Best parameters:', grid_search_svr.best_params_)"
   ]
  },
  {
   "cell_type": "markdown",
   "metadata": {},
   "source": [
    "Something interesting right off the bat is that the SVR model performed the best on a linear kernel, and it appears that linear regression was best overall. The data itself could be linearly related."
   ]
  },
  {
   "cell_type": "markdown",
   "metadata": {},
   "source": [
    "Let's do some comparison to find the best of the best. We will use the best results from each model for this. First, let's compare all R2 training scores, and R2 test scores."
   ]
  },
  {
   "cell_type": "code",
   "execution_count": 307,
   "metadata": {},
   "outputs": [
    {
     "data": {
      "image/png": "[encoded data removed]",
      "text/plain": [
       "<Figure size 1000x600 with 1 Axes>"
      ]
     },
     "metadata": {},
     "output_type": "display_data"
    }
   ],
   "source": [
    "bar_width = 0.35\n",
    "\n",
    "labels = ['Linear Regression', 'MLP Regressor', 'SVR']\n",
    "train_r2 = [lrg_train_r2, mlr_train_r2, svr_train_r2]\n",
    "test_r2 = [lrg_test_r2, mlr_test_r2, svr_test_r2]\n",
    "axis1 = np.arange(len(labels))\n",
    "axis2 = [x + bar_width for x in axis1]\n",
    "\n",
    "plt.figure(figsize=(10, 6))\n",
    "plt.bar(axis1, train_r2, color='blue', width=bar_width, edgecolor='grey', label='Train')\n",
    "plt.bar(axis2, test_r2, color='orange', width=bar_width, edgecolor='grey', label='Test')\n",
    "\n",
    "plt.ylim(0.997, 1)\n",
    "\n",
    "plt.xlabel('Regressor', fontweight='bold')\n",
    "plt.xticks([r + bar_width/2 for r in range(len(labels))], labels)\n",
    "plt.ylabel('R2 Score', fontweight='bold')\n",
    "plt.title('Training and Testing R2 Scores for Different Regressors', fontweight='bold')\n",
    "plt.legend()\n",
    "\n",
    "plt.grid(True)\n",
    "plt.show()"
   ]
  },
  {
   "cell_type": "markdown",
   "metadata": {},
   "source": [
    "Out of all the regressors and their parameters, linear regression stood out. It has the best score by far, but all models perform exceptionally well.\n",
    "Additionally, all train scores are slightly better than the test scores, but they are so close together, it's safe to say there is no overfitting occurring."
   ]
  },
  {
   "cell_type": "markdown",
   "metadata": {},
   "source": [
    "Now let's compare test errors."
   ]
  },
  {
   "cell_type": "code",
   "execution_count": 308,
   "metadata": {},
   "outputs": [
    {
     "data": {
      "image/png": "[encoded data removed]",
      "text/plain": [
       "<Figure size 1000x600 with 1 Axes>"
      ]
     },
     "metadata": {},
     "output_type": "display_data"
    }
   ],
   "source": [
    "bar_width = 0.35\n",
    "\n",
    "labels = ['Linear Regression', 'MLP Regressor', 'SVR']\n",
    "train_rmse = [lrg_train_rmse, mlr_train_rmse, svr_train_rmse]\n",
    "test_rmse = [lrg_test_rmse, mlr_test_rmse, svr_test_rmse]\n",
    "axis1 = np.arange(len(labels))\n",
    "axis2 = [x + bar_width for x in axis1]\n",
    "\n",
    "plt.figure(figsize=(10, 6))\n",
    "plt.bar(axis1, train_rmse, color='blue', width=bar_width, edgecolor='grey', label='Train')\n",
    "plt.bar(axis2, test_rmse, color='orange', width=bar_width, edgecolor='grey', label='Test')\n",
    "\n",
    "plt.ylim(0.5, 2.0)\n",
    "\n",
    "plt.xlabel('Regressor', fontweight='bold')\n",
    "plt.xticks([r + bar_width/2 for r in range(len(labels))], labels)\n",
    "plt.ylabel('RMSE', fontweight='bold')\n",
    "plt.title('Training and Testing RMSE Scores for Different Regressors', fontweight='bold')\n",
    "plt.legend()\n",
    "\n",
    "plt.grid(True)\n",
    "plt.show()"
   ]
  },
  {
   "cell_type": "markdown",
   "metadata": {},
   "source": [
    "These results follow the inverse trend of the r2 scores; mlp performs the worst and linear regression the best, but overall still very good results."
   ]
  },
  {
   "cell_type": "code",
   "execution_count": 309,
   "metadata": {},
   "outputs": [
    {
     "data": {
      "image/png": "[encoded data removed]",
      "text/plain": [
       "<Figure size 1000x600 with 1 Axes>"
      ]
     },
     "metadata": {},
     "output_type": "display_data"
    }
   ],
   "source": [
    "bar_width = 0.35\n",
    "\n",
    "labels = ['Linear Regression', 'MLP Regressor', 'SVR']\n",
    "train_mae = [lrg_train_mae, mlr_train_mae, svr_train_mae]\n",
    "test_mae = [lrg_test_mae, mlr_test_mae, svr_test_mae]\n",
    "axis1 = np.arange(len(labels))\n",
    "axis2 = [x + bar_width for x in axis1]\n",
    "\n",
    "plt.figure(figsize=(10, 6))\n",
    "plt.bar(axis1, train_mae, color='blue', width=bar_width, edgecolor='grey', label='Train')\n",
    "plt.bar(axis2, test_mae, color='orange', width=bar_width, edgecolor='grey', label='Test')\n",
    "\n",
    "plt.ylim(0.5, 1.5)\n",
    "\n",
    "plt.xlabel('Regressor', fontweight='bold')\n",
    "plt.xticks([r + bar_width/2 for r in range(len(labels))], labels)\n",
    "plt.ylabel('MAE', fontweight='bold')\n",
    "plt.title('Training and Testing MAE Scores for Different Regressors', fontweight='bold')\n",
    "plt.legend()\n",
    "\n",
    "plt.grid(True)\n",
    "plt.show()"
   ]
  },
  {
   "cell_type": "markdown",
   "metadata": {},
   "source": [
    "Same trend as RMSE. Even with MLP performing the worst, our predictions would only be on average $1.13 off. It would be unlikely that it would cause us more losses than gains, so even the worst model performs excellently."
   ]
  },
  {
   "cell_type": "markdown",
   "metadata": {},
   "source": [
    "## References\n",
    "\n",
    "- preprocessing date data: https://stackoverflow.com/questions/46428870/how-to-handle-date-variable-in-machine-learning-data-pre-processing\n",
    "- offsetting date data algorithm (used to generate algorithm): chatGPT\n",
    "- graph plotting (syntax help): chatGPT"
   ]
  }
 ],
 "metadata": {
  "kernelspec": {
   "display_name": "base",
   "language": "python",
   "name": "python3"
  },
  "language_info": {
   "codemirror_mode": {
    "name": "ipython",
    "version": 3
   },
   "file_extension": ".py",
   "mimetype": "text/x-python",
   "name": "python",
   "nbconvert_exporter": "python",
   "pygments_lexer": "ipython3",
   "version": "3.11.5"
  }
 },
 "nbformat": 4,
 "nbformat_minor": 2
}
